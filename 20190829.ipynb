{
 "cells": [
  {
   "cell_type": "markdown",
   "metadata": {},
   "source": [
    "## 01.LINUX Ubuntu作業系統與指令簡介"
   ]
  },
  {
   "cell_type": "code",
   "execution_count": null,
   "metadata": {},
   "outputs": [],
   "source": []
  },
  {
   "cell_type": "code",
   "execution_count": null,
   "metadata": {},
   "outputs": [],
   "source": []
  },
  {
   "cell_type": "code",
   "execution_count": null,
   "metadata": {},
   "outputs": [],
   "source": []
  },
  {
   "cell_type": "markdown",
   "metadata": {},
   "source": [
    "## 02. PYTHON資料庫CRUD-SQL&NoSQL"
   ]
  },
  {
   "cell_type": "code",
   "execution_count": null,
   "metadata": {},
   "outputs": [],
   "source": []
  },
  {
   "cell_type": "code",
   "execution_count": null,
   "metadata": {},
   "outputs": [],
   "source": []
  },
  {
   "cell_type": "code",
   "execution_count": null,
   "metadata": {},
   "outputs": [],
   "source": []
  },
  {
   "cell_type": "markdown",
   "metadata": {},
   "source": [
    "## 03. PYTHON正則表達式 - Regular Expression"
   ]
  },
  {
   "cell_type": "markdown",
   "metadata": {},
   "source": [
    "#### 引用套件"
   ]
  },
  {
   "cell_type": "code",
   "execution_count": 1,
   "metadata": {},
   "outputs": [],
   "source": [
    "import re"
   ]
  },
  {
   "cell_type": "markdown",
   "metadata": {},
   "source": [
    "<img src=\"./data/pic1.png\" width = \"400\" height = \"300\" alt=\"图片名称\" align=center />\n",
    "<img src=\"./data/pic2.png\" width = \"400\" height = \"300\" alt=\"图片名称\" align=center />"
   ]
  },
  {
   "cell_type": "markdown",
   "metadata": {},
   "source": [
    "##### re.split 函数"
   ]
  },
  {
   "cell_type": "code",
   "execution_count": 16,
   "metadata": {},
   "outputs": [
    {
     "name": "stdout",
     "output_type": "stream",
     "text": [
      "['A b C ', ' ', ' ', '']\n",
      "['', '', '', '', '', '', '1', '2', '3']\n"
     ]
    }
   ],
   "source": [
    "import re\n",
    "ex1 = 'A b C 1 2 3'\n",
    "print(re.split('[\\d]',ex1))  # \\d 數字\n",
    "print(re.split('[\\D]',ex1)) # \\D 非數字"
   ]
  },
  {
   "cell_type": "code",
   "execution_count": 17,
   "metadata": {},
   "outputs": [
    {
     "name": "stdout",
     "output_type": "stream",
     "text": [
      "['A', 'b', 'C', '1', '2', '3']\n",
      "['', ' ', ' ', ' ', ' ', ' ', '']\n"
     ]
    }
   ],
   "source": [
    "import re\n",
    "ex1 = 'A b C 1 2 3'\n",
    "print(re.split('[\\s]',ex1))# \\s 空白字元 \n",
    "print(re.split('[\\S]',ex1)) # \\S 非空白字元 "
   ]
  },
  {
   "cell_type": "code",
   "execution_count": 18,
   "metadata": {},
   "outputs": [
    {
     "name": "stdout",
     "output_type": "stream",
     "text": [
      "['', ' ', ' ', ' ', ' ? +']\n",
      "['A', 'b', '1', '_', '', '', '', '']\n"
     ]
    }
   ],
   "source": [
    "import re\n",
    "ex1 = 'A b 1 _ ? +'\n",
    "print(re.split('[\\w]',ex1)) # \\w 數字, 大小寫字母, 底線\n",
    "print(re.split('[\\W]',ex1)) # \\W 非數字, 大小寫字母, 底線"
   ]
  },
  {
   "cell_type": "code",
   "execution_count": 21,
   "metadata": {},
   "outputs": [
    {
     "name": "stdout",
     "output_type": "stream",
     "text": [
      "['', 'z', 'ccc', '']\n",
      "['aaaz', 'a']\n",
      "['', '', '', 'zbbbccc', '']\n"
     ]
    },
    {
     "name": "stderr",
     "output_type": "stream",
     "text": [
      "c:\\users\\lifeplus\\appdata\\local\\programs\\python\\python35\\lib\\re.py:203: FutureWarning: split() requires a non-empty pattern match.\n",
      "  return _compile(pattern, flags).split(string, maxsplit)\n"
     ]
    }
   ],
   "source": [
    "import re\n",
    "ex1 = 'aaazbbbccca'\n",
    "print(re.split('[a-b]*',ex1)) # * 比對前一個字元0次或多次\n",
    "print(re.split('[b-c]+',ex1)) # + 比對前一個字元1次或多次\n",
    "print(re.split('[a]?',ex1)) # ? 比對前一個字元0次或1次"
   ]
  },
  {
   "cell_type": "markdown",
   "metadata": {},
   "source": [
    "##### re.finall函數\n",
    "\n",
    "說明 : 找到 RE 匹配的所有子串，並把它們作為一個列表返回"
   ]
  },
  {
   "cell_type": "code",
   "execution_count": 22,
   "metadata": {},
   "outputs": [
    {
     "data": {
      "text/plain": [
       "['ccc', 'ddd', 'eee', 'fff']"
      ]
     },
     "execution_count": 22,
     "metadata": {},
     "output_type": "execute_result"
    }
   ],
   "source": [
    "import re\n",
    "re.findall('[a-z]{3}','a bb ccc dddd eeeee fffff') #印出滿足a-z , 其中連續3個一樣的字"
   ]
  },
  {
   "cell_type": "code",
   "execution_count": 24,
   "metadata": {},
   "outputs": [
    {
     "data": {
      "text/plain": [
       "['ccc', 'dddd', 'eeeee', 'fffff']"
      ]
     },
     "execution_count": 24,
     "metadata": {},
     "output_type": "execute_result"
    }
   ],
   "source": [
    "import re\n",
    "re.findall('[a-z]{3,}','a bb ccc dddd eeeee fffff') #印出滿足a-z , 其中連續3個或以上一樣的字"
   ]
  },
  {
   "cell_type": "code",
   "execution_count": 25,
   "metadata": {},
   "outputs": [
    {
     "data": {
      "text/plain": [
       "['ccc', 'dddd', 'eeee', 'ffff']"
      ]
     },
     "execution_count": 25,
     "metadata": {},
     "output_type": "execute_result"
    }
   ],
   "source": [
    "import re\n",
    "re.findall('[a-z]{3,4}','a bb ccc dddd eeeee fffff') #印出滿足a-z , 其中連續3-4個一樣的字"
   ]
  },
  {
   "cell_type": "code",
   "execution_count": 27,
   "metadata": {},
   "outputs": [
    {
     "data": {
      "text/plain": [
       "['a', '', 'bb', '', 'ccc', '', 'dddd', '', 'eeee', 'e', '', 'ffff', 'f', '']"
      ]
     },
     "execution_count": 27,
     "metadata": {},
     "output_type": "execute_result"
    }
   ],
   "source": [
    "import re\n",
    "re.findall('[a-z]{,4}','a bb ccc dddd eeeee fffff') #印出滿足a-z , 其中連續4個或以下一樣的字"
   ]
  },
  {
   "cell_type": "code",
   "execution_count": 28,
   "metadata": {},
   "outputs": [
    {
     "data": {
      "text/plain": [
       "['abbc', 'ccdd', 'ddee', 'eeef', 'ffff', '']"
      ]
     },
     "execution_count": 28,
     "metadata": {},
     "output_type": "execute_result"
    }
   ],
   "source": [
    "import re\n",
    "re.findall('[a-z]{,4}','abbcccddddeeeeefffff') #印出滿足a-z , 其中連續4個或以下一樣的字"
   ]
  },
  {
   "attachments": {},
   "cell_type": "markdown",
   "metadata": {},
   "source": [
    "Email 正則表示法\n",
    "\n",
    "<img src=\"./data/pic3.png\" width = \"700\" height = \"600\" alt=\"图片名称\" align=center />"
   ]
  },
  {
   "cell_type": "code",
   "execution_count": 32,
   "metadata": {},
   "outputs": [
    {
     "data": {
      "text/plain": [
       "['123@gmail.com', 'abc123@yahoo.com.tw', '5678_abc@pchome.com.tw']"
      ]
     },
     "execution_count": 32,
     "metadata": {},
     "output_type": "execute_result"
    }
   ],
   "source": [
    "import re\n",
    "mail = '123@gmail.com abc123@yahoo.com.tw 5678_abc@pchome.com.tw asdaa'\n",
    "\n",
    "re.findall(r'([a-zA-Z0-9_]+@[a-zA-Z0-9\\.]+)',mail)\n"
   ]
  },
  {
   "cell_type": "code",
   "execution_count": 33,
   "metadata": {},
   "outputs": [
    {
     "data": {
      "text/plain": [
       "['3@g', '3@y', 'c@p']"
      ]
     },
     "execution_count": 33,
     "metadata": {},
     "output_type": "execute_result"
    }
   ],
   "source": [
    "re.findall(r'([a-zA-Z0-9_]@[a-zA-Z0-9\\.])',mail)\n"
   ]
  },
  {
   "cell_type": "code",
   "execution_count": 34,
   "metadata": {},
   "outputs": [
    {
     "data": {
      "text/plain": [
       "['123@gmail.com', 'abc123@yahoo.com.tw', '5678_abc@pchome.com.tw']"
      ]
     },
     "execution_count": 34,
     "metadata": {},
     "output_type": "execute_result"
    }
   ],
   "source": [
    "re.findall(r'([a-zA-Z0-9_]+@[a-zA-Z0-9\\._]+)',mail)\n"
   ]
  },
  {
   "cell_type": "code",
   "execution_count": 36,
   "metadata": {},
   "outputs": [
    {
     "data": {
      "text/plain": [
       "['0932 333-222', '(0932)-333 222']"
      ]
     },
     "execution_count": 36,
     "metadata": {},
     "output_type": "execute_result"
    }
   ],
   "source": [
    "import re\n",
    "phone = \"(04) 513-1238,0932 333-222,(0932)-333 222\"\n",
    "\n",
    "re.findall(r'\\(?\\d{4}\\)?[\\s\\-]\\d{3}[\\-\\s]\\d{3}',phone)"
   ]
  },
  {
   "cell_type": "markdown",
   "metadata": {},
   "source": [
    "* greedy : 代表所有可能的匹配結果中，取字元數最多的。 *、+都是\n",
    "* non-greedy : 代表所有可能的匹配結果中，取字元數最少的*?、+?都是"
   ]
  },
  {
   "cell_type": "code",
   "execution_count": 39,
   "metadata": {},
   "outputs": [
    {
     "name": "stdout",
     "output_type": "stream",
     "text": [
      "['vx1234']\n",
      "['v']\n",
      "['vx1234']\n"
     ]
    }
   ],
   "source": [
    "import re\n",
    "\n",
    "z = 'prevx1234x'\n",
    "print(re.findall('pre(.+)x',z))\n",
    "print(re.findall('pre(.+?)x',z))\n",
    "print(re.findall('pre(.+)?x',z))"
   ]
  },
  {
   "cell_type": "code",
   "execution_count": 45,
   "metadata": {},
   "outputs": [
    {
     "name": "stdout",
     "output_type": "stream",
     "text": [
      "['<title>TestA</title>']\n",
      "['<title>', '</title>']\n",
      "['', 'TestA', '']\n"
     ]
    }
   ],
   "source": [
    "import re\n",
    "a = '<title>TestA</title>'\n",
    "print(re.findall('<.+>',a))\n",
    "print(re.findall('<.+?>',a))\n",
    "print(re.split('<.+?>',a))"
   ]
  },
  {
   "cell_type": "markdown",
   "metadata": {},
   "source": [
    "##### re.match函数\n",
    "\n",
    "re.match(pattern,string,flags=0)"
   ]
  },
  {
   "cell_type": "code",
   "execution_count": 2,
   "metadata": {},
   "outputs": [
    {
     "name": "stdout",
     "output_type": "stream",
     "text": [
      "(0, 3)\n"
     ]
    }
   ],
   "source": [
    "print(re.match('www','www.google.com.tw').span())"
   ]
  },
  {
   "cell_type": "code",
   "execution_count": 3,
   "metadata": {},
   "outputs": [
    {
     "name": "stdout",
     "output_type": "stream",
     "text": [
      "None\n"
     ]
    }
   ],
   "source": [
    "print(re.match('google','www.google.com.tw'))"
   ]
  },
  {
   "cell_type": "markdown",
   "metadata": {},
   "source": [
    "##### re.search 搜尋函數\n",
    "\n",
    "說明: 決定 RE 是否在字符串剛開始的位置匹配\n",
    "\n",
    "re.search(pattern, string, flags=0)\n",
    "\n"
   ]
  },
  {
   "cell_type": "code",
   "execution_count": null,
   "metadata": {},
   "outputs": [],
   "source": []
  },
  {
   "cell_type": "code",
   "execution_count": null,
   "metadata": {},
   "outputs": [],
   "source": []
  },
  {
   "cell_type": "markdown",
   "metadata": {},
   "source": [
    "##### re.sub 替換函數\n",
    "\n",
    "re.sub(pattern, repl, string, count=0, flags=0)"
   ]
  },
  {
   "cell_type": "code",
   "execution_count": null,
   "metadata": {},
   "outputs": [],
   "source": []
  },
  {
   "cell_type": "code",
   "execution_count": null,
   "metadata": {},
   "outputs": [],
   "source": []
  },
  {
   "cell_type": "code",
   "execution_count": null,
   "metadata": {},
   "outputs": [],
   "source": []
  },
  {
   "cell_type": "code",
   "execution_count": null,
   "metadata": {},
   "outputs": [],
   "source": []
  },
  {
   "cell_type": "code",
   "execution_count": null,
   "metadata": {},
   "outputs": [],
   "source": []
  },
  {
   "cell_type": "code",
   "execution_count": null,
   "metadata": {},
   "outputs": [],
   "source": []
  },
  {
   "cell_type": "code",
   "execution_count": null,
   "metadata": {},
   "outputs": [],
   "source": []
  },
  {
   "cell_type": "code",
   "execution_count": null,
   "metadata": {},
   "outputs": [],
   "source": []
  },
  {
   "cell_type": "code",
   "execution_count": null,
   "metadata": {},
   "outputs": [],
   "source": []
  },
  {
   "cell_type": "code",
   "execution_count": null,
   "metadata": {},
   "outputs": [],
   "source": []
  },
  {
   "cell_type": "code",
   "execution_count": null,
   "metadata": {},
   "outputs": [],
   "source": []
  },
  {
   "cell_type": "code",
   "execution_count": null,
   "metadata": {},
   "outputs": [],
   "source": []
  },
  {
   "cell_type": "code",
   "execution_count": null,
   "metadata": {},
   "outputs": [],
   "source": []
  },
  {
   "cell_type": "code",
   "execution_count": null,
   "metadata": {},
   "outputs": [],
   "source": []
  },
  {
   "cell_type": "code",
   "execution_count": null,
   "metadata": {},
   "outputs": [],
   "source": []
  },
  {
   "cell_type": "code",
   "execution_count": null,
   "metadata": {},
   "outputs": [],
   "source": []
  },
  {
   "cell_type": "code",
   "execution_count": null,
   "metadata": {},
   "outputs": [],
   "source": []
  },
  {
   "cell_type": "code",
   "execution_count": null,
   "metadata": {},
   "outputs": [],
   "source": []
  },
  {
   "cell_type": "code",
   "execution_count": null,
   "metadata": {},
   "outputs": [],
   "source": []
  },
  {
   "cell_type": "code",
   "execution_count": null,
   "metadata": {},
   "outputs": [],
   "source": []
  },
  {
   "cell_type": "code",
   "execution_count": null,
   "metadata": {},
   "outputs": [],
   "source": []
  },
  {
   "cell_type": "code",
   "execution_count": null,
   "metadata": {},
   "outputs": [],
   "source": []
  },
  {
   "cell_type": "code",
   "execution_count": null,
   "metadata": {},
   "outputs": [],
   "source": []
  },
  {
   "cell_type": "code",
   "execution_count": null,
   "metadata": {},
   "outputs": [],
   "source": []
  },
  {
   "cell_type": "code",
   "execution_count": null,
   "metadata": {},
   "outputs": [],
   "source": []
  },
  {
   "cell_type": "markdown",
   "metadata": {},
   "source": [
    "## 04. PYTHON JSON"
   ]
  },
  {
   "cell_type": "markdown",
   "metadata": {},
   "source": [
    "#### 引用套件"
   ]
  },
  {
   "cell_type": "code",
   "execution_count": 5,
   "metadata": {},
   "outputs": [],
   "source": [
    "import json"
   ]
  },
  {
   "cell_type": "markdown",
   "metadata": {},
   "source": [
    "* EnCode : json.dumps()\n",
    "* DeCode : json.loads()"
   ]
  },
  {
   "cell_type": "markdown",
   "metadata": {},
   "source": [
    "#### Pytohn data structure to Json\n"
   ]
  },
  {
   "cell_type": "code",
   "execution_count": 6,
   "metadata": {},
   "outputs": [],
   "source": [
    "import json\n",
    "\n",
    "data = {\n",
    "    'no' : 1,\n",
    "    'name' : \"google\",\n",
    "    'url' : 'http://www.google.com.tw'\n",
    "}\n",
    "\n",
    "json_str = json.dumps(data)"
   ]
  },
  {
   "cell_type": "code",
   "execution_count": 7,
   "metadata": {},
   "outputs": [
    {
     "data": {
      "text/plain": [
       "\"{'name': 'google', 'url': 'http://www.google.com.tw', 'no': 1}\""
      ]
     },
     "execution_count": 7,
     "metadata": {},
     "output_type": "execute_result"
    }
   ],
   "source": [
    "repr(data)"
   ]
  },
  {
   "cell_type": "code",
   "execution_count": 8,
   "metadata": {},
   "outputs": [
    {
     "data": {
      "text/plain": [
       "'{\"name\": \"google\", \"url\": \"http://www.google.com.tw\", \"no\": 1}'"
      ]
     },
     "execution_count": 8,
     "metadata": {},
     "output_type": "execute_result"
    }
   ],
   "source": [
    "json_str"
   ]
  },
  {
   "cell_type": "markdown",
   "metadata": {},
   "source": [
    "#### Json to Python data structure"
   ]
  },
  {
   "cell_type": "code",
   "execution_count": 9,
   "metadata": {},
   "outputs": [
    {
     "data": {
      "text/plain": [
       "{'name': 'google', 'no': 1, 'url': 'http://www.google.com.tw'}"
      ]
     },
     "execution_count": 9,
     "metadata": {},
     "output_type": "execute_result"
    }
   ],
   "source": [
    "data2 = json.loads(json_str)\n",
    "data2"
   ]
  },
  {
   "cell_type": "code",
   "execution_count": 10,
   "metadata": {},
   "outputs": [
    {
     "data": {
      "text/plain": [
       "'google'"
      ]
     },
     "execution_count": 10,
     "metadata": {},
     "output_type": "execute_result"
    }
   ],
   "source": [
    "data2['name']"
   ]
  },
  {
   "cell_type": "code",
   "execution_count": null,
   "metadata": {},
   "outputs": [],
   "source": []
  },
  {
   "cell_type": "markdown",
   "metadata": {},
   "source": [
    "## 05. PYTHON資料分析與視覺化繪圖 I - Numpy "
   ]
  },
  {
   "cell_type": "markdown",
   "metadata": {},
   "source": [
    "NumPy，全名為 Numerical Python 創建一種稱為 ndarray 的型別，彌補了原生 list 缺少的元素級別（element-wise）運算功能 主要用於資料處理上。Numpy 底層以 C 和 Fortran 語言實作，能快速操作多重維度的陣列"
   ]
  },
  {
   "cell_type": "markdown",
   "metadata": {},
   "source": [
    "#### 安裝套件"
   ]
  },
  {
   "cell_type": "markdown",
   "metadata": {},
   "source": [
    "* Python 2+ : pip install numpy\n",
    "* Python 3+ : pip3 install numpy"
   ]
  },
  {
   "cell_type": "markdown",
   "metadata": {},
   "source": [
    "#### 引用套件"
   ]
  },
  {
   "cell_type": "code",
   "execution_count": 14,
   "metadata": {},
   "outputs": [],
   "source": [
    "import numpy as np"
   ]
  },
  {
   "cell_type": "code",
   "execution_count": null,
   "metadata": {},
   "outputs": [],
   "source": [
    "pip3 install numpy"
   ]
  },
  {
   "cell_type": "markdown",
   "metadata": {},
   "source": [
    "#### 初始化陣列"
   ]
  },
  {
   "cell_type": "markdown",
   "metadata": {},
   "source": [
    "##### 使用Python 列表建立陣列"
   ]
  },
  {
   "cell_type": "code",
   "execution_count": 17,
   "metadata": {},
   "outputs": [
    {
     "data": {
      "text/plain": [
       "array([[1, 2],\n",
       "       [3, 4],\n",
       "       [5, 6]])"
      ]
     },
     "execution_count": 17,
     "metadata": {},
     "output_type": "execute_result"
    }
   ],
   "source": [
    "np.array([1,3,5])  #  [1 3 5]\n",
    "np.array([[1,2,],[3,4],[5,6]])  # [[1 2] [3 4] [5 6]]"
   ]
  },
  {
   "cell_type": "markdown",
   "metadata": {},
   "source": [
    "##### 使用Numpy arange函數建立連續數值陣列"
   ]
  },
  {
   "cell_type": "code",
   "execution_count": 19,
   "metadata": {},
   "outputs": [
    {
     "data": {
      "text/plain": [
       "array([1, 2, 3, 4, 5, 6, 7, 8, 9])"
      ]
     },
     "execution_count": 19,
     "metadata": {},
     "output_type": "execute_result"
    }
   ],
   "source": [
    "np.arange(1,10)  # [1 2 3 4 5 6 7 8 9]"
   ]
  },
  {
   "cell_type": "markdown",
   "metadata": {},
   "source": [
    "##### 使用Numpy linspace函數建立連續等距數值陣列"
   ]
  },
  {
   "cell_type": "code",
   "execution_count": 21,
   "metadata": {},
   "outputs": [
    {
     "data": {
      "text/plain": [
       "array([0. , 0.4, 0.8, 1.2, 1.6, 2. , 2.4, 2.8, 3.2, 3.6, 4. ])"
      ]
     },
     "execution_count": 21,
     "metadata": {},
     "output_type": "execute_result"
    }
   ],
   "source": [
    "np.linspace(0,4,11) # [0.  0.4 0.8 1.2 1.6 2.  2.4 2.8 3.2 3.6 4. ]"
   ]
  },
  {
   "cell_type": "markdown",
   "metadata": {},
   "source": [
    "##### 建立填滿 0 的陣列"
   ]
  },
  {
   "cell_type": "code",
   "execution_count": 22,
   "metadata": {},
   "outputs": [
    {
     "data": {
      "text/plain": [
       "array([[0., 0., 0.],\n",
       "       [0., 0., 0.]])"
      ]
     },
     "execution_count": 22,
     "metadata": {},
     "output_type": "execute_result"
    }
   ],
   "source": [
    "np.zeros([2, 3]) # [[0. 0. 0.] [0. 0. 0.]]"
   ]
  },
  {
   "cell_type": "markdown",
   "metadata": {},
   "source": [
    "##### 建立填滿 1 的陣列"
   ]
  },
  {
   "cell_type": "code",
   "execution_count": 23,
   "metadata": {},
   "outputs": [
    {
     "data": {
      "text/plain": [
       "array([[1., 1., 1.],\n",
       "       [1., 1., 1.]])"
      ]
     },
     "execution_count": 23,
     "metadata": {},
     "output_type": "execute_result"
    }
   ],
   "source": [
    "np.ones([2, 3]) #[[1. 1. 1.] [1. 1. 1.]]"
   ]
  },
  {
   "cell_type": "markdown",
   "metadata": {},
   "source": [
    "##### 建立對角線為1的對角矩陣陣列"
   ]
  },
  {
   "cell_type": "code",
   "execution_count": 24,
   "metadata": {},
   "outputs": [
    {
     "data": {
      "text/plain": [
       "array([[1., 0., 0., 0., 0., 0., 0., 0., 0., 0.],\n",
       "       [0., 1., 0., 0., 0., 0., 0., 0., 0., 0.],\n",
       "       [0., 0., 1., 0., 0., 0., 0., 0., 0., 0.],\n",
       "       [0., 0., 0., 1., 0., 0., 0., 0., 0., 0.],\n",
       "       [0., 0., 0., 0., 1., 0., 0., 0., 0., 0.],\n",
       "       [0., 0., 0., 0., 0., 1., 0., 0., 0., 0.],\n",
       "       [0., 0., 0., 0., 0., 0., 1., 0., 0., 0.],\n",
       "       [0., 0., 0., 0., 0., 0., 0., 1., 0., 0.],\n",
       "       [0., 0., 0., 0., 0., 0., 0., 0., 1., 0.],\n",
       "       [0., 0., 0., 0., 0., 0., 0., 0., 0., 1.]])"
      ]
     },
     "execution_count": 24,
     "metadata": {},
     "output_type": "execute_result"
    }
   ],
   "source": [
    "np.eye(10) "
   ]
  },
  {
   "cell_type": "markdown",
   "metadata": {},
   "source": [
    "##### 建立隨機數值陣列"
   ]
  },
  {
   "cell_type": "code",
   "execution_count": 31,
   "metadata": {},
   "outputs": [
    {
     "name": "stdout",
     "output_type": "stream",
     "text": [
      "[0.55734639 0.03520794 0.99175963 0.5654693  0.16516575]\n",
      "-----\n",
      "[[0.34328597 0.62637326]\n",
      " [0.78626113 0.84233587]\n",
      " [0.23833381 0.12867231]\n",
      " [0.83740742 0.79276578]]\n",
      "-----\n",
      "[[[0.81410014 0.95695662]\n",
      "  [0.90306447 0.2204284 ]\n",
      "  [0.16638669 0.29427577]]\n",
      "\n",
      " [[0.35827674 0.9788805 ]\n",
      "  [0.37734338 0.41260329]\n",
      "  [0.17525079 0.78106372]]\n",
      "\n",
      " [[0.71445866 0.44687649]\n",
      "  [0.23835909 0.79108528]\n",
      "  [0.61194148 0.62393862]]\n",
      "\n",
      " [[0.40060584 0.85114819]\n",
      "  [0.87322561 0.05759597]\n",
      "  [0.79649759 0.29947476]]]\n"
     ]
    }
   ],
   "source": [
    "#rand : 给定維度生成[0,1]之間的數值陣列，包含0，不包含1\n",
    "print(np.random.rand(5)) # [0.15385879, 0.64608619, 0.72079961, 0.3115263 , 0.6021007 ]\n",
    "print(\"-----\")\n",
    "print(np.random.rand(4,2))\n",
    "print(\"-----\")\n",
    "print(np.random.rand(4,3,2))"
   ]
  },
  {
   "cell_type": "code",
   "execution_count": 32,
   "metadata": {},
   "outputs": [
    {
     "name": "stdout",
     "output_type": "stream",
     "text": [
      "[-0.06824035 -1.7322277  -0.98503595  0.06538166 -0.67853225]\n",
      "-----\n",
      "[[-0.07809758 -0.0152411 ]\n",
      " [-0.1079803   0.1569482 ]\n",
      " [ 1.43731852  0.83310644]\n",
      " [ 1.00216484 -1.01469143]]\n",
      "-----\n",
      "[[[-2.08188357  1.50470241]\n",
      "  [ 1.87064354 -0.74351578]\n",
      "  [ 0.80728859 -0.01722511]]\n",
      "\n",
      " [[ 0.92801297 -0.63040288]\n",
      "  [-0.98335235 -0.12539732]\n",
      "  [-0.77670728 -0.1011454 ]]\n",
      "\n",
      " [[-0.55669677  1.28375569]\n",
      "  [ 0.80147358  0.27938645]\n",
      "  [ 0.17311571  1.31685716]]\n",
      "\n",
      " [[-0.29208555  0.5282701 ]\n",
      "  [ 1.2024841   3.11181381]\n",
      "  [-0.76753056 -0.61432541]]]\n"
     ]
    }
   ],
   "source": [
    "#randn : 给定維度生成常態分佈的數值陣列 , N（0,1）\n",
    "print(np.random.randn(5))\n",
    "print(\"-----\")\n",
    "print(np.random.randn(4,2))\n",
    "print(\"-----\")\n",
    "print(np.random.randn(4,3,2))\n"
   ]
  },
  {
   "cell_type": "code",
   "execution_count": 34,
   "metadata": {},
   "outputs": [
    {
     "name": "stdout",
     "output_type": "stream",
     "text": [
      "[3 3 3 4 1]\n",
      "-----\n",
      "8\n",
      "-----\n",
      "[[9 5]\n",
      " [2 9]]\n"
     ]
    }
   ],
   "source": [
    "#randint : 给定維度生成隨機整數數值陣列 \n",
    "print(np.random.randint(6,size=5))\n",
    "print(\"-----\")\n",
    "print(np.random.randint(2,10))\n",
    "print(\"-----\")\n",
    "print(np.random.randint(-10,10,size=(2,2)))"
   ]
  },
  {
   "cell_type": "code",
   "execution_count": 35,
   "metadata": {},
   "outputs": [
    {
     "data": {
      "text/plain": [
       "array([[40, 20, 20, 20, 20],\n",
       "       [20, 20, 50, 20, 20]])"
      ]
     },
     "execution_count": 35,
     "metadata": {},
     "output_type": "execute_result"
    }
   ],
   "source": [
    "#從给定的一维陣列中生成随數值\n",
    "demo_list = [10,20,30,40,50]\n",
    "#demo_list = ['Acer', 'ASUS','DELL','HP', 'APPLE']\n",
    "np.random.choice(demo_list,size=(2,5), p=[0.1,0.6,0.1,0.1,0.1])"
   ]
  },
  {
   "cell_type": "code",
   "execution_count": 40,
   "metadata": {},
   "outputs": [
    {
     "name": "stdout",
     "output_type": "stream",
     "text": [
      "[[ 1. 10. 20. 30. 40. 50. 60.]\n",
      " [ 2. 12. 22. 32. 42. 52. 62.]]\n"
     ]
    }
   ],
   "source": [
    "#  從檔CSV案讀取資料\n",
    "a = np.genfromtxt('data/NPdata.csv', delimiter=',')\n",
    "print(a)"
   ]
  },
  {
   "cell_type": "markdown",
   "metadata": {},
   "source": [
    "#### 陣列訪問"
   ]
  },
  {
   "cell_type": "code",
   "execution_count": 41,
   "metadata": {},
   "outputs": [
    {
     "name": "stdout",
     "output_type": "stream",
     "text": [
      "[0 1 2 3 4 5 6 7 8 9]\n",
      "np1[0] = 0 , np1[5] = 5\n",
      "np1[:5] =  [0 1 2 3 4]\n",
      "np1[3:7] =  [3 4 5 6]\n",
      "np1[6:] =  [6 7 8 9]\n",
      "[1 3 5]\n",
      "[1 3 5 7 9]\n",
      "[0 3 6 9]\n"
     ]
    }
   ],
   "source": [
    "#一維照列\n",
    "np1 = np.arange(0,10)\n",
    "print(np1)\n",
    "print(\"np1[0] = %d , np1[5] = %d\" % (np1[0],np1[5]))\n",
    "print(\"np1[:5] = \",np1[:5])\n",
    "print(\"np1[3:7] = \",np1[3:7])\n",
    "print(\"np1[6:] = \",np1[6:])\n",
    "print(np1[1:6:2])\n",
    "print(np1[1::2])\n",
    "print(np1[::3])"
   ]
  },
  {
   "cell_type": "code",
   "execution_count": 42,
   "metadata": {},
   "outputs": [
    {
     "name": "stdout",
     "output_type": "stream",
     "text": [
      "[False False False  True  True  True]\n"
     ]
    }
   ],
   "source": [
    "#使用布林遮罩來取值\n",
    "np3 = np.array([1, 2, 3, 4, 5, 6])\n",
    "print(np3 > 3)"
   ]
  },
  {
   "cell_type": "code",
   "execution_count": 43,
   "metadata": {},
   "outputs": [
    {
     "name": "stdout",
     "output_type": "stream",
     "text": [
      "[0 0 3 4 5 6]\n"
     ]
    }
   ],
   "source": [
    "np3[np3<3]=0\n",
    "print(np3)"
   ]
  },
  {
   "cell_type": "markdown",
   "metadata": {},
   "source": [
    "#### 改變數組的維度"
   ]
  },
  {
   "cell_type": "code",
   "execution_count": 44,
   "metadata": {},
   "outputs": [
    {
     "name": "stdout",
     "output_type": "stream",
     "text": [
      "[[[ 0  1  2]\n",
      "  [ 3  4  5]\n",
      "  [ 6  7  8]]\n",
      "\n",
      " [[ 9 10 11]\n",
      "  [12 13 14]\n",
      "  [15 16 17]]]\n"
     ]
    }
   ],
   "source": [
    "#使用reshape 函數\n",
    "\n",
    "#a = np.arange(18)\n",
    "#print(a)\n",
    "#print(a.reshape(2,3,3))\n",
    "\n",
    "a = np.arange(18).reshape(2,3,3)\n",
    "print(a)"
   ]
  },
  {
   "cell_type": "code",
   "execution_count": 45,
   "metadata": {},
   "outputs": [
    {
     "name": "stdout",
     "output_type": "stream",
     "text": [
      "[ 0  1  2  3  4  5  6  7  8  9 10 11 12 13 14 15 16 17]\n",
      "[ 0  1  2  3  4  5  6  7  8  9 10 11 12 13 14 15 16 17]\n"
     ]
    }
   ],
   "source": [
    "#使用ravel函數 ,將數組轉為一維 , return view\n",
    "\n",
    "print(a.ravel())\n",
    "\n",
    "#使用 flatten 函數 ,將數組轉為一維, 使用記憶體來保存結果\n",
    "print(a.flatten())"
   ]
  },
  {
   "cell_type": "markdown",
   "metadata": {},
   "source": [
    "#### 組合數組"
   ]
  },
  {
   "cell_type": "code",
   "execution_count": 46,
   "metadata": {},
   "outputs": [
    {
     "data": {
      "text/plain": [
       "array([[0, 1, 2],\n",
       "       [3, 4, 5],\n",
       "       [6, 7, 8]])"
      ]
     },
     "execution_count": 46,
     "metadata": {},
     "output_type": "execute_result"
    }
   ],
   "source": [
    "a = np.arange(9).reshape(3,3)\n",
    "a"
   ]
  },
  {
   "cell_type": "code",
   "execution_count": 47,
   "metadata": {},
   "outputs": [
    {
     "data": {
      "text/plain": [
       "array([[ 0,  3,  6],\n",
       "       [ 9, 12, 15],\n",
       "       [18, 21, 24]])"
      ]
     },
     "execution_count": 47,
     "metadata": {},
     "output_type": "execute_result"
    }
   ],
   "source": [
    "# 純量計算\n",
    "b = a * 3 \n",
    "b"
   ]
  },
  {
   "cell_type": "code",
   "execution_count": 48,
   "metadata": {},
   "outputs": [
    {
     "data": {
      "text/plain": [
       "array([[ 0,  1,  2,  0,  3,  6],\n",
       "       [ 3,  4,  5,  9, 12, 15],\n",
       "       [ 6,  7,  8, 18, 21, 24]])"
      ]
     },
     "execution_count": 48,
     "metadata": {},
     "output_type": "execute_result"
    }
   ],
   "source": [
    "# 水平組合 \n",
    "#使用 hstack()\n",
    "np.hstack((a, b)) \n",
    "\n",
    "#使用 np.concatenate()\n",
    "np.concatenate((a, b), axis=1)"
   ]
  },
  {
   "cell_type": "code",
   "execution_count": 49,
   "metadata": {},
   "outputs": [
    {
     "data": {
      "text/plain": [
       "array([[ 0,  1,  2],\n",
       "       [ 3,  4,  5],\n",
       "       [ 6,  7,  8],\n",
       "       [ 0,  3,  6],\n",
       "       [ 9, 12, 15],\n",
       "       [18, 21, 24]])"
      ]
     },
     "execution_count": 49,
     "metadata": {},
     "output_type": "execute_result"
    }
   ],
   "source": [
    "# 垂直組合\n",
    "#使用 vstack()\n",
    "np.vstack((a, b)) \n",
    "#使用 np.concatenate()\n",
    "np.concatenate((a, b), axis=0)"
   ]
  },
  {
   "cell_type": "code",
   "execution_count": 50,
   "metadata": {},
   "outputs": [
    {
     "name": "stdout",
     "output_type": "stream",
     "text": [
      "[[[ 0  0]\n",
      "  [ 1  3]\n",
      "  [ 2  6]]\n",
      "\n",
      " [[ 3  9]\n",
      "  [ 4 12]\n",
      "  [ 5 15]]\n",
      "\n",
      " [[ 6 18]\n",
      "  [ 7 21]\n",
      "  [ 8 24]]]\n",
      "(3, 3, 2)\n"
     ]
    }
   ],
   "source": [
    "# 深度組合\n",
    "# 使用 dstack()\n",
    "c = np.dstack((a, b))\n",
    "print(c)\n",
    "print(c.shape)"
   ]
  },
  {
   "cell_type": "code",
   "execution_count": 51,
   "metadata": {},
   "outputs": [
    {
     "name": "stdout",
     "output_type": "stream",
     "text": [
      "[[ 0  1  2  0  3  6]\n",
      " [ 3  4  5  9 12 15]\n",
      " [ 6  7  8 18 21 24]]\n",
      "(3, 6)\n"
     ]
    }
   ],
   "source": [
    "# 列組合\n",
    "# 使用 column_stack()\n",
    "# column_stack((a, b)) == hstack((a, b)) \n",
    "c = np.column_stack((a, b))\n",
    "print(c)\n",
    "print(c.shape)"
   ]
  },
  {
   "cell_type": "code",
   "execution_count": 52,
   "metadata": {},
   "outputs": [
    {
     "data": {
      "text/plain": [
       "array([[ 0,  1,  2],\n",
       "       [ 3,  4,  5],\n",
       "       [ 6,  7,  8],\n",
       "       [ 0,  3,  6],\n",
       "       [ 9, 12, 15],\n",
       "       [18, 21, 24]])"
      ]
     },
     "execution_count": 52,
     "metadata": {},
     "output_type": "execute_result"
    }
   ],
   "source": [
    "# 行組合\n",
    "# 使用 row_stack()\n",
    "# row_stack((a,b)) == vstack((a, b)) \n",
    "np.row_stack((a, b))"
   ]
  },
  {
   "cell_type": "markdown",
   "metadata": {},
   "source": [
    "#### 數組分割"
   ]
  },
  {
   "cell_type": "code",
   "execution_count": 53,
   "metadata": {},
   "outputs": [
    {
     "name": "stdout",
     "output_type": "stream",
     "text": [
      "[[0 1 2]\n",
      " [3 4 5]\n",
      " [6 7 8]]\n"
     ]
    },
    {
     "data": {
      "text/plain": [
       "[array([[0],\n",
       "        [3],\n",
       "        [6]]), array([[1],\n",
       "        [4],\n",
       "        [7]]), array([[2],\n",
       "        [5],\n",
       "        [8]])]"
      ]
     },
     "execution_count": 53,
     "metadata": {},
     "output_type": "execute_result"
    }
   ],
   "source": [
    "# 分割\n",
    "a = np.arange(9).reshape(3,3)\n",
    "\n",
    "print(a)\n",
    "\n",
    "np.hsplit(a,3)\n",
    "\n",
    "#np.split(a,3,axis = 1)"
   ]
  },
  {
   "cell_type": "code",
   "execution_count": 54,
   "metadata": {},
   "outputs": [
    {
     "name": "stdout",
     "output_type": "stream",
     "text": [
      "[[0 1 2]\n",
      " [3 4 5]\n",
      " [6 7 8]]\n"
     ]
    },
    {
     "data": {
      "text/plain": [
       "[array([[0, 1, 2]]), array([[3, 4, 5]]), array([[6, 7, 8]])]"
      ]
     },
     "execution_count": 54,
     "metadata": {},
     "output_type": "execute_result"
    }
   ],
   "source": [
    "\n",
    "# 重直分割\n",
    "a = np.arange(9).reshape(3,3)\n",
    "\n",
    "print(a)\n",
    "\n",
    "np.vsplit(a,3)\n",
    "\n",
    "#np.split(a,3,axis = 0)"
   ]
  },
  {
   "cell_type": "code",
   "execution_count": 55,
   "metadata": {},
   "outputs": [
    {
     "name": "stdout",
     "output_type": "stream",
     "text": [
      "[[0 1 2]\n",
      " [3 4 5]\n",
      " [6 7 8]]\n"
     ]
    },
    {
     "data": {
      "text/plain": [
       "[array([[0],\n",
       "        [3],\n",
       "        [6]]), array([[1],\n",
       "        [4],\n",
       "        [7]]), array([[2],\n",
       "        [5],\n",
       "        [8]])]"
      ]
     },
     "execution_count": 55,
     "metadata": {},
     "output_type": "execute_result"
    }
   ],
   "source": [
    "# 水平分割\n",
    "a = np.arange(9).reshape(3,3)\n",
    "print(a)\n",
    "\n",
    "np.hsplit(a,3)\n",
    "\n",
    "#np.split(a,3,axis = 1)"
   ]
  },
  {
   "cell_type": "code",
   "execution_count": 56,
   "metadata": {},
   "outputs": [
    {
     "name": "stdout",
     "output_type": "stream",
     "text": [
      "[[[ 0  1  2]\n",
      "  [ 3  4  5]\n",
      "  [ 6  7  8]]\n",
      "\n",
      " [[ 9 10 11]\n",
      "  [12 13 14]\n",
      "  [15 16 17]]\n",
      "\n",
      " [[18 19 20]\n",
      "  [21 22 23]\n",
      "  [24 25 26]]]\n"
     ]
    },
    {
     "data": {
      "text/plain": [
       "[array([[[ 0],\n",
       "         [ 3],\n",
       "         [ 6]],\n",
       " \n",
       "        [[ 9],\n",
       "         [12],\n",
       "         [15]],\n",
       " \n",
       "        [[18],\n",
       "         [21],\n",
       "         [24]]]), array([[[ 1],\n",
       "         [ 4],\n",
       "         [ 7]],\n",
       " \n",
       "        [[10],\n",
       "         [13],\n",
       "         [16]],\n",
       " \n",
       "        [[19],\n",
       "         [22],\n",
       "         [25]]]), array([[[ 2],\n",
       "         [ 5],\n",
       "         [ 8]],\n",
       " \n",
       "        [[11],\n",
       "         [14],\n",
       "         [17]],\n",
       " \n",
       "        [[20],\n",
       "         [23],\n",
       "         [26]]])]"
      ]
     },
     "execution_count": 56,
     "metadata": {},
     "output_type": "execute_result"
    }
   ],
   "source": [
    "# 深度分割\n",
    "a = np.arange(27).reshape(3,3,3)\n",
    "print(a)\n",
    "\n",
    "np.dsplit(a,3)"
   ]
  },
  {
   "cell_type": "markdown",
   "metadata": {},
   "source": [
    "#### 矩陣運算"
   ]
  },
  {
   "cell_type": "markdown",
   "metadata": {},
   "source": [
    "##### 矩陣加減"
   ]
  },
  {
   "cell_type": "markdown",
   "metadata": {},
   "source": [
    "* 矩陣加法有交換律,減法沒有交換律\n",
    "* 矩陣加法有結合律,減法沒有結合律"
   ]
  },
  {
   "cell_type": "code",
   "execution_count": 58,
   "metadata": {},
   "outputs": [
    {
     "name": "stdout",
     "output_type": "stream",
     "text": [
      "[[25 56 36]\n",
      " [30 48 46]\n",
      " [33  6 30]\n",
      " [15 15  2]]\n",
      "[[25 56 36]\n",
      " [30 48 46]\n",
      " [33  6 30]\n",
      " [15 15  2]]\n"
     ]
    },
    {
     "data": {
      "text/plain": [
       "True"
      ]
     },
     "execution_count": 58,
     "metadata": {},
     "output_type": "execute_result"
    }
   ],
   "source": [
    "A = np.array([[12,23,14],[20,29,38],[3,6,10],[15,15,2]])\n",
    "B = np.array([[13,33,22],[10,19,8],[30,0,20],[0,0,0]])\n",
    "print(A+B)\n",
    "print(B+A)\n",
    "np.array_equal(A+B,B+A)"
   ]
  },
  {
   "cell_type": "code",
   "execution_count": 59,
   "metadata": {},
   "outputs": [
    {
     "name": "stdout",
     "output_type": "stream",
     "text": [
      "[[ -1 -10  -8]\n",
      " [ 10  10  30]\n",
      " [-27   6 -10]\n",
      " [ 15  15   2]]\n",
      "[[  1  10   8]\n",
      " [-10 -10 -30]\n",
      " [ 27  -6  10]\n",
      " [-15 -15  -2]]\n"
     ]
    },
    {
     "data": {
      "text/plain": [
       "False"
      ]
     },
     "execution_count": 59,
     "metadata": {},
     "output_type": "execute_result"
    }
   ],
   "source": [
    "A = np.array([[12,23,14],[20,29,38],[3,6,10],[15,15,2]])\n",
    "B = np.array([[13,33,22],[10,19,8],[30,0,20],[0,0,0]])\n",
    "print(A-B)\n",
    "print(B-A)\n",
    "np.array_equal(A-B,B-A)"
   ]
  },
  {
   "cell_type": "code",
   "execution_count": 60,
   "metadata": {},
   "outputs": [
    {
     "name": "stdout",
     "output_type": "stream",
     "text": [
      "[[18 10]\n",
      " [-4  6]]\n",
      "[[18 10]\n",
      " [-4  6]]\n"
     ]
    },
    {
     "data": {
      "text/plain": [
       "True"
      ]
     },
     "execution_count": 60,
     "metadata": {},
     "output_type": "execute_result"
    }
   ],
   "source": [
    "A = np.array([[5,3],[0,1]])\n",
    "B = np.array([[4,-1],[2,3]])\n",
    "C = np.array([[9,8],[-6,2]])\n",
    "print((A+B)+C)\n",
    "print(A+(B+C))\n",
    "\n",
    "np.array_equal((A+B)+C,A+(B+C))"
   ]
  },
  {
   "cell_type": "code",
   "execution_count": 61,
   "metadata": {},
   "outputs": [
    {
     "data": {
      "text/plain": [
       "False"
      ]
     },
     "execution_count": 61,
     "metadata": {},
     "output_type": "execute_result"
    }
   ],
   "source": [
    "\n",
    "np.array_equal((A-B)-C,A-(B-C))"
   ]
  },
  {
   "cell_type": "markdown",
   "metadata": {},
   "source": [
    "##### 矩陣乘法"
   ]
  },
  {
   "cell_type": "markdown",
   "metadata": {},
   "source": [
    "* 矩陣A為 m x n、矩陣B為 p x q，n 與 p 要相等， A * B 才能進行運算\n",
    "* .dot() 函數來實現矩陣與矩陣的相乘\n",
    "* 矩陣相乘具有結合律,分配律"
   ]
  },
  {
   "cell_type": "code",
   "execution_count": 63,
   "metadata": {},
   "outputs": [
    {
     "name": "stdout",
     "output_type": "stream",
     "text": [
      "[[  35  240  -15]\n",
      " [  25 -115   45]\n",
      " [  60   32   72]]\n"
     ]
    }
   ],
   "source": [
    "A = np.array([\n",
    "    [10, -20, 15],\n",
    "    [0, 15, -5],\n",
    "    [2, 4, 6]\n",
    "])\n",
    "B = np.array([\n",
    "    [1, 2, -3],\n",
    "    [4, -5, 6],\n",
    "    [7, 8, 9]\n",
    "])\n",
    "\n",
    "print(A.dot(B))"
   ]
  },
  {
   "cell_type": "code",
   "execution_count": 66,
   "metadata": {},
   "outputs": [
    {
     "name": "stdout",
     "output_type": "stream",
     "text": [
      "[[  1 -12]\n",
      " [-46 -48]]\n",
      "[[  1 -12]\n",
      " [-46 -48]]\n",
      "True\n"
     ]
    }
   ],
   "source": [
    "A = np.array([\n",
    "    [1, -1],\n",
    "    [2, 4]\n",
    "])\n",
    "B = np.array([\n",
    "    [3, 1],\n",
    "    [2, 0]\n",
    "])\n",
    "C = np.array([\n",
    "    [-4, -2],\n",
    "    [5, -10]\n",
    "])\n",
    "D = (A.dot(B)).dot(C)\n",
    "E = A.dot(B.dot(C))\n",
    "print(D)\n",
    "print(E)\n",
    "print(np.array_equal(D, E))"
   ]
  },
  {
   "cell_type": "code",
   "execution_count": 67,
   "metadata": {},
   "outputs": [
    {
     "name": "stdout",
     "output_type": "stream",
     "text": [
      "[[ -8   9]\n",
      " [ 26 -42]]\n",
      "[[ -8   9]\n",
      " [ 26 -42]]\n",
      "True\n"
     ]
    }
   ],
   "source": [
    "A = np.array([\n",
    "    [1, -1],\n",
    "    [2, 4]\n",
    "])\n",
    "B = np.array([\n",
    "    [3, 1],\n",
    "    [2, 0]\n",
    "])\n",
    "C = np.array([\n",
    "    [-4, -2],\n",
    "    [5, -10]\n",
    "])\n",
    "\n",
    "D = A.dot(B + C)\n",
    "E = A.dot(B) + A.dot(C)\n",
    "print(D)\n",
    "print(E)\n",
    "print(np.array_equal(D, E))"
   ]
  },
  {
   "cell_type": "markdown",
   "metadata": {},
   "source": [
    "##### 轉置矩陣"
   ]
  },
  {
   "cell_type": "code",
   "execution_count": 69,
   "metadata": {},
   "outputs": [
    {
     "name": "stdout",
     "output_type": "stream",
     "text": [
      "[[1 3 5]\n",
      " [2 4 6]]\n"
     ]
    }
   ],
   "source": [
    "A = np.array([\n",
    "    [1, 2],\n",
    "    [3, 4],\n",
    "    [5, 6]\n",
    "])\n",
    "B = A.T\n",
    "print(B)"
   ]
  },
  {
   "cell_type": "code",
   "execution_count": 70,
   "metadata": {},
   "outputs": [
    {
     "name": "stdout",
     "output_type": "stream",
     "text": [
      "[[ 8 12 16]\n",
      " [10 14 18]]\n",
      "[[ 8 12 16]\n",
      " [10 14 18]]\n",
      "True\n"
     ]
    }
   ],
   "source": [
    "\n",
    "A = np.array([\n",
    "    [1, 2],\n",
    "    [3, 4],\n",
    "    [5, 6]\n",
    "])\n",
    "B = np.array([\n",
    "    [7, 8],\n",
    "    [9, 10],\n",
    "    [11, 12]\n",
    "])\n",
    "\n",
    "C = (A + B).T\n",
    "D = A.T + B.T\n",
    "print(C)\n",
    "print(D)\n",
    "print(np.array_equal(C, D))"
   ]
  },
  {
   "cell_type": "code",
   "execution_count": 71,
   "metadata": {},
   "outputs": [
    {
     "name": "stdout",
     "output_type": "stream",
     "text": [
      "True\n"
     ]
    }
   ],
   "source": [
    "A = np.array([\n",
    "    [1, 2],\n",
    "    [3, 4],\n",
    "    [5, 6]\n",
    "])\n",
    "B = np.array([\n",
    "    [1, 0, 2],\n",
    "    [4, 5, 6]\n",
    "])\n",
    "C = (A.dot(B)).T\n",
    "D = (B.T).dot(A.T)\n",
    "print(np.array_equal(C, D))"
   ]
  },
  {
   "cell_type": "markdown",
   "metadata": {},
   "source": [
    "##### 反矩陣"
   ]
  },
  {
   "cell_type": "markdown",
   "metadata": {},
   "source": [
    "* 反矩陣（Inverse）：如果矩陣 M 是一個可逆矩陣（invertible），則矩陣 M 與其反矩陣相乘之後可以得到一個單位矩陣 => 不是每個矩陣都具有反矩陣\n",
    "* np.linalg.inv() 函數計算反矩陣"
   ]
  },
  {
   "cell_type": "code",
   "execution_count": 74,
   "metadata": {},
   "outputs": [
    {
     "name": "stdout",
     "output_type": "stream",
     "text": [
      "[[-1.5  3.5]\n",
      " [-1.   2. ]]\n",
      "[[1. 0.]\n",
      " [0. 1.]]\n"
     ]
    }
   ],
   "source": [
    "A = np.array([\n",
    "    [4, -7],\n",
    "    [2, -3]\n",
    "])\n",
    "A_inv = np.linalg.inv(A)\n",
    "print(A_inv)\n",
    "print(A.dot(A_inv))"
   ]
  },
  {
   "cell_type": "code",
   "execution_count": 75,
   "metadata": {},
   "outputs": [
    {
     "name": "stdout",
     "output_type": "stream",
     "text": [
      "矩陣 B 是不可逆矩陣\n"
     ]
    }
   ],
   "source": [
    "B = np.array([\n",
    "    [8, 2],\n",
    "    [12, 3]\n",
    "])\n",
    "try:\n",
    "    B_inv = np.linalg.inv(B)\n",
    "except np.linalg.LinAlgError:\n",
    "    print('矩陣 B 是不可逆矩陣')"
   ]
  },
  {
   "cell_type": "code",
   "execution_count": null,
   "metadata": {},
   "outputs": [],
   "source": []
  },
  {
   "cell_type": "code",
   "execution_count": null,
   "metadata": {},
   "outputs": [],
   "source": []
  },
  {
   "cell_type": "code",
   "execution_count": null,
   "metadata": {},
   "outputs": [],
   "source": []
  },
  {
   "cell_type": "code",
   "execution_count": null,
   "metadata": {},
   "outputs": [],
   "source": []
  },
  {
   "cell_type": "code",
   "execution_count": null,
   "metadata": {},
   "outputs": [],
   "source": []
  },
  {
   "cell_type": "code",
   "execution_count": null,
   "metadata": {},
   "outputs": [],
   "source": []
  },
  {
   "cell_type": "code",
   "execution_count": null,
   "metadata": {},
   "outputs": [],
   "source": []
  }
 ],
 "metadata": {
  "kernelspec": {
   "display_name": "Python 3",
   "language": "python",
   "name": "python3"
  },
  "language_info": {
   "codemirror_mode": {
    "name": "ipython",
    "version": 3
   },
   "file_extension": ".py",
   "mimetype": "text/x-python",
   "name": "python",
   "nbconvert_exporter": "python",
   "pygments_lexer": "ipython3",
   "version": "3.5.4"
  }
 },
 "nbformat": 4,
 "nbformat_minor": 2
}
